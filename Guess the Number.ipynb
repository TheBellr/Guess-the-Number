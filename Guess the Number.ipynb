{
 "cells": [
  {
   "cell_type": "markdown",
   "id": "637c8ef8-08b3-4012-bb27-c13d2746bb29",
   "metadata": {},
   "source": [
    "# Guess the Number\n",
    "\n",
    "Write a Python program that generates a random number between 1 and 5 and asks the user to guess the number. The program should continue prompting the user for guesses until they correctly guess the number.\n",
    "\n",
    "Generate a random number between 1 and 5.\n",
    "Prompt the user to enter their guess.\n",
    "Use a while loop to continue prompting the user until they guess the correct number or after 10 tries.\n",
    "Provide feedback if the guess is too high or too low."
   ]
  },
  {
   "cell_type": "code",
   "execution_count": null,
   "id": "e6448322-10a4-4e91-9666-c10db319fa45",
   "metadata": {},
   "outputs": [],
   "source": [
    "import random\n",
    "x = 0\n",
    "while x < 10:\n",
    "    secret_number = random.randint (1, 5 )\n",
    "    user_guess = float( input ( \"We have selected a secret number between 1 and 5. Can you guess what it is? \"))\n",
    "    if user_guess == secret_number:\n",
    "        print (\"The secret number is \" + str (secret_number))\n",
    "        print (\"You are correct!\")\n",
    "        break\n",
    "    elif user_guess > secret_number:\n",
    "        print (\"The secret number is \" + str (secret_number))\n",
    "        print (\"Your guess is too high!\")\n",
    "    else:\n",
    "        print (\"The secret number is \" + str (secret_number))\n",
    "        print (\"Your guess is too low!\")\n",
    "    x += 1"
   ]
  }
 ],
 "metadata": {
  "kernelspec": {
   "display_name": "Python 3 (ipykernel)",
   "language": "python",
   "name": "python3"
  },
  "language_info": {
   "codemirror_mode": {
    "name": "ipython",
    "version": 3
   },
   "file_extension": ".py",
   "mimetype": "text/x-python",
   "name": "python",
   "nbconvert_exporter": "python",
   "pygments_lexer": "ipython3",
   "version": "3.11.5"
  }
 },
 "nbformat": 4,
 "nbformat_minor": 5
}
